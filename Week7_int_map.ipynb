{
 "cells": [
  {
   "cell_type": "code",
   "execution_count": 1,
   "id": "prime-sixth",
   "metadata": {},
   "outputs": [],
   "source": [
    "import folium\n",
    "import pandas as pd\n",
    "import numpy as np\n",
    "from ipywidgets import interact\n",
    "import matplotlib.pyplot as plt"
   ]
  },
  {
   "cell_type": "code",
   "execution_count": 2,
   "id": "c03972b6",
   "metadata": {},
   "outputs": [],
   "source": [
    "def date_parser(x):\n",
    "    if int(x.split('_')[2]) < 10:\n",
    "        date = pd.to_datetime(x.split('_')[1] + ' 0' + x.split('_')[2])\n",
    "    else:\n",
    "        date = pd.to_datetime(x.split('_')[1] + ' ' + x.split('_')[2])\n",
    "    return date\n",
    "\n",
    "\n",
    "def interact_map(day, hour, predictions, real_data):\n",
    "    f = folium.Figure(width=750, height=750)\n",
    "    \n",
    "    m = folium.Map(location=[esb_lat, esb_lng], zoom_start=11, min_zoom=9).add_to(f)\n",
    "    \n",
    "    base_map = folium.FeatureGroup(name='Basemap', overlay=True, control=False)\n",
    "    folium.TileLayer(tiles='OpenStreetMap').add_to(base_map)\n",
    "    base_map.add_to(m)\n",
    "    \n",
    "    heat_map = real_data[real_data.time == day]\n",
    "    mask1 = predictions.date == day\n",
    "    mask2 = predictions.hour == hour\n",
    "    predict_hours = predictions.predict_time.unique()\n",
    "    \n",
    "    for i in predict_hours:\n",
    "        mask3 = predictions.predict_time == i\n",
    "        heat_map = predictions[mask1 & mask2 & mask3]\n",
    "        folium.features.Choropleth(geo_data=regs_json,\n",
    "                                   data=heat_map,\n",
    "                                   columns=['region','rides'],\n",
    "                                   key_on=\"feature.region\",\n",
    "                                   line_weight=0,\n",
    "                                   legend_name=f'{i} hour prediction',\n",
    "                                   fill_opacity=1,\n",
    "                                   fill_color='YlOrBr',\n",
    "                                   nan_fill_opacity=0,\n",
    "                                   name=f'{i} hour prediction',\n",
    "                                   show=False,\n",
    "                                   overlay=False,\n",
    "                                   bins=6, highlight=True).add_to(m)\n",
    "        \n",
    "    folium.LayerControl().add_to(m)\n",
    "    return f\n",
    "\n",
    "\n",
    "def interact_graph(region, pred_hour, predictions, june_real_data):\n",
    "    T = predictions[(predictions.region==region) & (predictions.predict_time==pred_hour)].date_hour + pd.Timedelta(hours=pred_hour-1)\n",
    "    X = predictions[(predictions.region==region) & (predictions.predict_time==pred_hour)].rides\n",
    "    plt.figure(figsize=(20,5))\n",
    "    plt.plot(T, X)\n",
    "    plt.plot(june_real_data.loc[:, str(region)])\n",
    "    plt.legend([f'{region} predictions at {pred_hour}-hour model',f'{region} real june rides'], prop={'size': 16})\n",
    "    plt.show()"
   ]
  },
  {
   "cell_type": "markdown",
   "id": "pleasant-overall",
   "metadata": {},
   "source": [
    "Загрузка данных"
   ]
  },
  {
   "cell_type": "code",
   "execution_count": 3,
   "id": "exotic-blame",
   "metadata": {},
   "outputs": [],
   "source": [
    "data = pd.read_csv('may2016_agg.csv', index_col=0)\n",
    "june_real_data = pd.read_csv('june_clear.csv', index_col=0, parse_dates=True)\n",
    "regions = pd.read_csv('regions.csv', delimiter=';')\n",
    "june_raw_data = pd.read_csv('answer.csv')"
   ]
  },
  {
   "cell_type": "markdown",
   "id": "cebbe644",
   "metadata": {},
   "source": [
    "Обрабатываем данные"
   ]
  },
  {
   "cell_type": "code",
   "execution_count": 4,
   "id": "bf6231c6",
   "metadata": {},
   "outputs": [
    {
     "name": "stdout",
     "output_type": "stream",
     "text": [
      "Wall time: 1min 8s\n"
     ]
    }
   ],
   "source": [
    "%%time\n",
    "predictions = pd.DataFrame()\n",
    "predictions['date'] = june_raw_data.iloc[:, 0].apply(lambda x: pd.to_datetime(x.split('_')[1]))\n",
    "predictions['hour'] = june_raw_data.iloc[:, 0].apply(lambda x: int(x.split('_')[2]))\n",
    "predictions['region'] = june_raw_data.iloc[:, 0].apply(lambda x: int(x.split('_')[0]))\n",
    "predictions['predict_time'] = june_raw_data.iloc[:, 0].apply(lambda x: int(x.split('_')[-1]))\n",
    "predictions['rides'] = june_raw_data['y']\n",
    "predictions['date_hour'] = june_raw_data.iloc[:, 0].apply(date_parser)"
   ]
  },
  {
   "cell_type": "markdown",
   "id": "rational-aggregate",
   "metadata": {},
   "source": [
    "Координаты необходимых мест"
   ]
  },
  {
   "cell_type": "code",
   "execution_count": 5,
   "id": "silver-judge",
   "metadata": {},
   "outputs": [],
   "source": [
    "start_lng = -74.25559\n",
    "end_lng = -73.70001\n",
    "start_lat = 40.49612\n",
    "end_lat = 40.91553\n",
    "\n",
    "ny_lat = (start_lat + end_lat) / 2\n",
    "ny_lng = (start_lng + end_lng) / 2\n",
    "\n",
    "\n",
    "esb_lng = -73.985428\n",
    "esb_lat = 40.748817\n",
    "\n",
    "sof_lat = 40.689167\n",
    "sof_lng = -74.044583"
   ]
  },
  {
   "cell_type": "markdown",
   "id": "saving-conversation",
   "metadata": {},
   "source": [
    "Представление регионов в json формате для отрисовки на карте"
   ]
  },
  {
   "cell_type": "code",
   "execution_count": 6,
   "id": "regional-michigan",
   "metadata": {},
   "outputs": [],
   "source": [
    "regs_json = {'type': \"FeatureCollection\", 'features': \n",
    "    [{'type': 'Feature', 'region': elem[0], \n",
    "     'geometry': {'type': 'Polygon', \"coordinates\": [\n",
    "             [ [elem[2],elem[3]], [elem[1], elem[3]], [elem[1], elem[4]],[elem[2], elem[4]] ]\n",
    "             ]},\n",
    "     'properties': {'region': elem[0]}\n",
    "    } for elem in regions.itertuples(index=False)]\n",
    "    }"
   ]
  },
  {
   "cell_type": "markdown",
   "id": "occupational-checklist",
   "metadata": {},
   "source": [
    "Карта с суммарным количеством поездок. Работатет медленно, но для choropleth быстрее не получается"
   ]
  },
  {
   "cell_type": "code",
   "execution_count": 7,
   "id": "b2825289",
   "metadata": {},
   "outputs": [
    {
     "data": {
      "application/vnd.jupyter.widget-view+json": {
       "model_id": "ec1a3d5c019641cd90023793601354c7",
       "version_major": 2,
       "version_minor": 0
      },
      "text/plain": [
       "interactive(children=(Dropdown(description='day', options=('2016-06-01', '2016-06-02', '2016-06-03', '2016-06-…"
      ]
     },
     "metadata": {},
     "output_type": "display_data"
    },
    {
     "data": {
      "text/plain": [
       "<function __main__.<lambda>(day, hour)>"
      ]
     },
     "execution_count": 7,
     "metadata": {},
     "output_type": "execute_result"
    }
   ],
   "source": [
    "interact(lambda day, hour: interact_map(day, hour, predictions, june_real_data),\n",
    "         day=pd.date_range(start='2016-06-01', end='2016-06-30').strftime('%Y-%m-%d'),\n",
    "         hour=np.sort(predictions.hour.unique()))"
   ]
  },
  {
   "cell_type": "markdown",
   "id": "420a0808",
   "metadata": {},
   "source": [
    "Графики для сравнения предсказаний с реальными значениями."
   ]
  },
  {
   "cell_type": "code",
   "execution_count": 8,
   "id": "7431dbbb",
   "metadata": {},
   "outputs": [
    {
     "data": {
      "application/vnd.jupyter.widget-view+json": {
       "model_id": "04b8b6ef569d49f995a93a775c537bd1",
       "version_major": 2,
       "version_minor": 0
      },
      "text/plain": [
       "interactive(children=(Dropdown(description='region', options=(1075, 1076, 1077, 1125, 1126, 1127, 1128, 1129, …"
      ]
     },
     "metadata": {},
     "output_type": "display_data"
    },
    {
     "data": {
      "text/plain": [
       "<function __main__.<lambda>(region, pred_hour)>"
      ]
     },
     "execution_count": 8,
     "metadata": {},
     "output_type": "execute_result"
    }
   ],
   "source": [
    "interact(lambda region, pred_hour: interact_graph(region, pred_hour, predictions, june_real_data),\n",
    "        region=predictions.region.unique(),\n",
    "        pred_hour=predictions.predict_time.unique())"
   ]
  },
  {
   "cell_type": "code",
   "execution_count": null,
   "id": "6da73203",
   "metadata": {},
   "outputs": [],
   "source": []
  }
 ],
 "metadata": {
  "kernelspec": {
   "display_name": "Python 3",
   "language": "python",
   "name": "python3"
  },
  "language_info": {
   "codemirror_mode": {
    "name": "ipython",
    "version": 3
   },
   "file_extension": ".py",
   "mimetype": "text/x-python",
   "name": "python",
   "nbconvert_exporter": "python",
   "pygments_lexer": "ipython3",
   "version": "3.8.8"
  }
 },
 "nbformat": 4,
 "nbformat_minor": 5
}
